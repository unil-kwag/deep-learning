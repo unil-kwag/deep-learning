{
 "cells": [
  {
   "cell_type": "code",
   "execution_count": 1,
   "id": "41709b28-410e-4483-ba16-a8cfd1d92d4d",
   "metadata": {},
   "outputs": [],
   "source": [
    "import numpy as np\n",
    "\n",
    "from keras.models import Sequential, Input, Model\n",
    "from keras.layers import Dense\n",
    "from keras.datasets import mnist"
   ]
  },
  {
   "cell_type": "code",
   "execution_count": 2,
   "id": "029ca510-3315-4a65-add5-8936bc8725e0",
   "metadata": {},
   "outputs": [],
   "source": [
    "(X_train, _),(X_test, _) = mnist.load_data()"
   ]
  },
  {
   "cell_type": "code",
   "execution_count": 3,
   "id": "c571b189-2722-4826-becb-a3052624afec",
   "metadata": {},
   "outputs": [],
   "source": [
    "X_train = X_train.reshape(-1,28*28)/255.\n",
    "X_test = X_test.reshape(-1,28*28)/255."
   ]
  },
  {
   "cell_type": "code",
   "execution_count": 4,
   "id": "7ffd0a1c-22c7-40c2-a5e1-e5652e8f7401",
   "metadata": {},
   "outputs": [],
   "source": [
    "latent_dim = 32"
   ]
  },
  {
   "cell_type": "code",
   "execution_count": 5,
   "id": "b8b93f0a-23b3-4cef-9fed-9b80c0407e36",
   "metadata": {},
   "outputs": [],
   "source": [
    "input_ = Input(shape=X_train.shape[1:])\n",
    "encoded = Dense(latent_dim,activation='relu')(input_)\n",
    "decoded = Dense(X_train.shape[1],activation='sigmoid')(encoded)\n",
    "autoencoder = Model(inputs=[input_],outputs=[decoded])"
   ]
  },
  {
   "cell_type": "code",
   "execution_count": 6,
   "id": "7c4cdf7c-3140-4eb2-ae57-fd7e18bd17e7",
   "metadata": {},
   "outputs": [],
   "source": [
    "encoder = Model(inputs=[input_], outputs=[encoded])\n",
    "encoded_input = Input(shape=(latent_dim,))\n",
    "decoder_layer = autoencoder.layers[-1]"
   ]
  },
  {
   "cell_type": "code",
   "execution_count": 7,
   "id": "e40f6a56-021a-4c0d-a17c-f3d2a2feb503",
   "metadata": {},
   "outputs": [],
   "source": [
    "decoder = Model(inputs=[encoded_input], outputs=[decoder_layer(encoded_input)])"
   ]
  },
  {
   "cell_type": "code",
   "execution_count": 8,
   "id": "c958931e-d190-4a23-ba8d-4292fdbdf0c7",
   "metadata": {},
   "outputs": [],
   "source": [
    "autoencoder.compile(loss='mean_squared_error',\n",
    "                   optimizer='adam')"
   ]
  },
  {
   "cell_type": "code",
   "execution_count": 9,
   "id": "32bda206-834a-49f1-9fe0-ef795bed01c6",
   "metadata": {},
   "outputs": [
    {
     "name": "stdout",
     "output_type": "stream",
     "text": [
      "Epoch 1/20\n",
      "235/235 [==============================] - 2s 7ms/step - loss: 0.1104 - val_loss: 0.0412\n",
      "Epoch 2/20\n",
      "235/235 [==============================] - 1s 5ms/step - loss: 0.0379 - val_loss: 0.0287\n",
      "Epoch 3/20\n",
      "235/235 [==============================] - 1s 5ms/step - loss: 0.0275 - val_loss: 0.0228\n",
      "Epoch 4/20\n",
      "235/235 [==============================] - 1s 5ms/step - loss: 0.0221 - val_loss: 0.0191\n",
      "Epoch 5/20\n",
      "235/235 [==============================] - 1s 5ms/step - loss: 0.0187 - val_loss: 0.0166\n",
      "Epoch 6/20\n",
      "235/235 [==============================] - 1s 5ms/step - loss: 0.0164 - val_loss: 0.0147\n",
      "Epoch 7/20\n",
      "235/235 [==============================] - 1s 5ms/step - loss: 0.0146 - val_loss: 0.0133\n",
      "Epoch 8/20\n",
      "235/235 [==============================] - 1s 5ms/step - loss: 0.0133 - val_loss: 0.0123\n",
      "Epoch 9/20\n",
      "235/235 [==============================] - 1s 5ms/step - loss: 0.0124 - val_loss: 0.0117\n",
      "Epoch 10/20\n",
      "235/235 [==============================] - 1s 5ms/step - loss: 0.0118 - val_loss: 0.0112\n",
      "Epoch 11/20\n",
      "235/235 [==============================] - 1s 5ms/step - loss: 0.0114 - val_loss: 0.0108\n",
      "Epoch 12/20\n",
      "235/235 [==============================] - 1s 5ms/step - loss: 0.0111 - val_loss: 0.0106\n",
      "Epoch 13/20\n",
      "235/235 [==============================] - 1s 5ms/step - loss: 0.0109 - val_loss: 0.0104\n",
      "Epoch 14/20\n",
      "235/235 [==============================] - 1s 6ms/step - loss: 0.0107 - val_loss: 0.0103\n",
      "Epoch 15/20\n",
      "235/235 [==============================] - 1s 5ms/step - loss: 0.0106 - val_loss: 0.0102\n",
      "Epoch 16/20\n",
      "235/235 [==============================] - 1s 5ms/step - loss: 0.0105 - val_loss: 0.0102\n",
      "Epoch 17/20\n",
      "235/235 [==============================] - 1s 5ms/step - loss: 0.0105 - val_loss: 0.0101\n",
      "Epoch 18/20\n",
      "235/235 [==============================] - 1s 5ms/step - loss: 0.0104 - val_loss: 0.0101\n",
      "Epoch 19/20\n",
      "235/235 [==============================] - 1s 5ms/step - loss: 0.0104 - val_loss: 0.0100\n",
      "Epoch 20/20\n",
      "235/235 [==============================] - 1s 5ms/step - loss: 0.0103 - val_loss: 0.0100\n"
     ]
    },
    {
     "data": {
      "text/plain": [
       "<tensorflow.python.keras.callbacks.History at 0x7f17f7b831c0>"
      ]
     },
     "execution_count": 9,
     "metadata": {},
     "output_type": "execute_result"
    }
   ],
   "source": [
    "autoencoder.fit(X_train,\n",
    "                X_train,\n",
    "                epochs=20,\n",
    "               batch_size=256,\n",
    "               shuffle=True,\n",
    "               validation_data=(X_test,X_test))"
   ]
  },
  {
   "cell_type": "code",
   "execution_count": 10,
   "id": "7f29f28e-7e86-45d8-8ef1-e4aec930a181",
   "metadata": {},
   "outputs": [],
   "source": [
    "encoded_imgs = encoder.predict(X_test)\n",
    "decoded_imgs = decoder.predict(encoded_imgs)"
   ]
  },
  {
   "cell_type": "code",
   "execution_count": 11,
   "id": "780b4772-455b-4407-bb94-a0931955d0c0",
   "metadata": {},
   "outputs": [
    {
     "data": {
      "image/png": "[encoded data removed]",
      "text/plain": [
       "<Figure size 2000x400 with 20 Axes>"
      ]
     },
     "metadata": {},
     "output_type": "display_data"
    }
   ],
   "source": [
    "import matplotlib.pyplot as plt\n",
    "\n",
    "n = 10  # How many digits we will display\n",
    "plt.figure(figsize=(20, 4))\n",
    "for i in range(n):\n",
    "    # Display original\n",
    "    ax = plt.subplot(2, n, i + 1)\n",
    "    plt.imshow(X_test[i].reshape(28, 28))\n",
    "    plt.gray()\n",
    "    ax.get_xaxis().set_visible(False)\n",
    "    ax.get_yaxis().set_visible(False)\n",
    "\n",
    "    # Display reconstruction\n",
    "    ax = plt.subplot(2, n, i + 1 + n)\n",
    "    plt.imshow(decoded_imgs[i].reshape(28, 28))\n",
    "    plt.gray()\n",
    "    ax.get_xaxis().set_visible(False)\n",
    "    ax.get_yaxis().set_visible(False)\n",
    "plt.show()"
   ]
  },
  {
   "cell_type": "code",
   "execution_count": null,
   "id": "5f3cf6fa-375c-465b-a588-6b49622790cb",
   "metadata": {},
   "outputs": [],
   "source": [
    "class Autoencoder(Model):\n",
    "    def __init__(self,encoding_dim):\n",
    "        super(Autoencoder, self).__init__()\n",
    "        self.latent_dim=latent_dim\n",
    "        self.encoder = Sequential(\n",
    "            [\n",
    "                Dense(latent_dim,activation='relu')\n",
    "            ]\n",
    "        )\n",
    "        self.decoder = Sequential(\n",
    "            [\n",
    "                Dense(X_train)                \n",
    "            ]        \n",
    "        )\n",
    "        self.decoder = \n",
    "    def call(self,x):\n",
    "        encoded = self.encoder(x)\n",
    "        decoded = self.decoder(encoded)\n",
    "        return decoded"
   ]
  },
  {
   "cell_type": "code",
   "execution_count": null,
   "id": "8a342e29-1dff-4e26-837e-f3aa4fde1a24",
   "metadata": {},
   "outputs": [],
   "source": [
    "encoder = Sequential(\n",
    "    [layer,\n",
    "    layers,]\n",
    ")"
   ]
  }
 ],
 "metadata": {
  "kernelspec": {
   "display_name": "keras",
   "language": "python",
   "name": "keras"
  },
  "language_info": {
   "codemirror_mode": {
    "name": "ipython",
    "version": 3
   },
   "file_extension": ".py",
   "mimetype": "text/x-python",
   "name": "python",
   "nbconvert_exporter": "python",
   "pygments_lexer": "ipython3",
   "version": "3.8.11"
  }
 },
 "nbformat": 4,
 "nbformat_minor": 5
}
