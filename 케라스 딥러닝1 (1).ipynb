{
 "cells": [
  {
   "cell_type": "code",
   "execution_count": 1,
   "id": "002da5cf-f81f-49d4-9cd5-917d99abbe1a",
   "metadata": {},
   "outputs": [],
   "source": [
    "import numpy as np"
   ]
  },
  {
   "cell_type": "code",
   "execution_count": 20,
   "id": "4835d9a3-e2bf-4273-84e2-c0cc3e792fb7",
   "metadata": {},
   "outputs": [],
   "source": [
    "from keras.utils import np_utils\n",
    "from keras.datasets import cifar10\n",
    "from keras.models import Sequential\n",
    "from keras.layers import Dense, Conv2D, MaxPooling2D, Flatten, Activation, Dropout\n",
    "\n",
    "from sklearn.model_selection import train_test_split"
   ]
  },
  {
   "cell_type": "code",
   "execution_count": 7,
   "id": "5783d27c-2438-4654-b08a-c25b65d81a6d",
   "metadata": {},
   "outputs": [],
   "source": [
    "(X_train,y_train), (X_test,y_test) = cifar10.load_data()"
   ]
  },
  {
   "cell_type": "code",
   "execution_count": 10,
   "id": "1036ab0e-b1f8-4758-b186-de343c5f4e48",
   "metadata": {},
   "outputs": [],
   "source": [
    "y_train = np_utils.to_categorical(y_train)\n",
    "y_test = np_utils.to_categorical(y_test)\n",
    "X_train, X_val, y_train, y_val = train_test_split(X_train,y_train,test_size=0.2)"
   ]
  },
  {
   "cell_type": "code",
   "execution_count": 11,
   "id": "2a0ae7ec-223d-4f05-a31e-3dba81d71377",
   "metadata": {},
   "outputs": [
    {
     "name": "stdout",
     "output_type": "stream",
     "text": [
      "(40000, 32, 32, 3)\n",
      "(40000, 10, 2, 2)\n",
      "(10000, 32, 32, 3)\n",
      "(10000, 32, 32, 3)\n"
     ]
    }
   ],
   "source": [
    "print(X_train.shape)\n",
    "print(y_train.shape)\n",
    "print(X_test.shape)\n",
    "print(X_test.shape)"
   ]
  },
  {
   "cell_type": "code",
   "execution_count": 21,
   "id": "58cb2989-5ab0-4b1f-9d50-cba0caccdb5a",
   "metadata": {},
   "outputs": [],
   "source": [
    "model = Sequential()\n",
    "# convolution layer\n",
    "# model.add(Conv2D(filter,kernel_size,,input_shape=(),kernel_initializer='he_uniform'))\n",
    "model.add(Conv2D(64,(5,5),input_shape=(32,32,3),kernel_initializer='he_uniform',activation='relu'))\n",
    "model.add(Dropout(0,2))\n",
    "model.add(MaxPooling2D(pool_size=(2,2)))\n",
    "\n",
    "layer1 = Dense(128,activation = 'relu')\n",
    "layer2 = Dense(64,activation = 'relu')\n",
    "outputlayer = Dense(10,activation='softmax')\n",
    "model.add(layer1)\n",
    "model.add(layer2)\n",
    "model.add(outputlayer)"
   ]
  },
  {
   "cell_type": "code",
   "execution_count": 22,
   "id": "a307f1ee-659e-4bb7-b96e-fcbcb83d481f",
   "metadata": {},
   "outputs": [
    {
     "name": "stdout",
     "output_type": "stream",
     "text": [
      "Model: \"sequential_8\"\n",
      "_________________________________________________________________\n",
      "Layer (type)                 Output Shape              Param #   \n",
      "=================================================================\n",
      "conv2d (Conv2D)              (None, 28, 28, 64)        4864      \n",
      "_________________________________________________________________\n",
      "dropout (Dropout)            (None, 28, 28, 64)        0         \n",
      "_________________________________________________________________\n",
      "max_pooling2d (MaxPooling2D) (None, 14, 14, 64)        0         \n",
      "_________________________________________________________________\n",
      "dense_7 (Dense)              (None, 14, 14, 128)       8320      \n",
      "_________________________________________________________________\n",
      "dense_8 (Dense)              (None, 14, 14, 64)        8256      \n",
      "_________________________________________________________________\n",
      "dense_9 (Dense)              (None, 14, 14, 10)        650       \n",
      "=================================================================\n",
      "Total params: 22,090\n",
      "Trainable params: 22,090\n",
      "Non-trainable params: 0\n",
      "_________________________________________________________________\n"
     ]
    }
   ],
   "source": [
    "model.summary()"
   ]
  },
  {
   "cell_type": "code",
   "execution_count": null,
   "id": "59d9c682-ab48-4265-8c14-09352dd9229c",
   "metadata": {},
   "outputs": [],
   "source": []
  }
 ],
 "metadata": {
  "kernelspec": {
   "display_name": "ml",
   "language": "python",
   "name": "ml"
  },
  "language_info": {
   "codemirror_mode": {
    "name": "ipython",
    "version": 3
   },
   "file_extension": ".py",
   "mimetype": "text/x-python",
   "name": "python",
   "nbconvert_exporter": "python",
   "pygments_lexer": "ipython3",
   "version": "3.9.5"
  }
 },
 "nbformat": 4,
 "nbformat_minor": 5
}
