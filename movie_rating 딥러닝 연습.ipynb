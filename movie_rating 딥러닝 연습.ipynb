{
 "cells": [
  {
   "cell_type": "code",
   "execution_count": 1,
   "id": "a440551f",
   "metadata": {},
   "outputs": [],
   "source": [
    "import numpy as np\n",
    "from keras.datasets import imdb\n",
    "from keras.preprocessing import sequence\n",
    "from keras.models import Sequential, Input, Model\n",
    "from keras.layers import Dense, SimpleRNN, Embedding, GRU\n"
   ]
  },
  {
   "cell_type": "code",
   "execution_count": 2,
   "id": "47a58803",
   "metadata": {},
   "outputs": [],
   "source": [
    "max_features = 1000"
   ]
  },
  {
   "cell_type": "code",
   "execution_count": 15,
   "id": "89ea7c64",
   "metadata": {},
   "outputs": [],
   "source": [
    "(X_train, y_train), (X_test,y_test) = imdb.load_data(num_words=max_features)"
   ]
  },
  {
   "cell_type": "code",
   "execution_count": 16,
   "id": "1251d228",
   "metadata": {},
   "outputs": [],
   "source": [
    "X_train = sequence.pad_sequences(X_train,maxlen=max_features)\n",
    "X_test = sequence.pad_sequences(X_test,maxlen=max_features)"
   ]
  },
  {
   "cell_type": "code",
   "execution_count": 17,
   "id": "9e155983",
   "metadata": {},
   "outputs": [],
   "source": [
    "## Fc \n",
    "model = Sequential()\n",
    "model.add(Dense(64,input_dim=max_features,activation='relu'\n",
    "               ,kernel_initializer='he_normal'))\n",
    "model.add(Dense(3,activation='relu',\n",
    "               kernel_initializer='he_normal'))\n",
    "model.add(Dense(1,activation='sigmoid'))"
   ]
  },
  {
   "cell_type": "code",
   "execution_count": 18,
   "id": "ffdbbd1a",
   "metadata": {},
   "outputs": [],
   "source": [
    "model.compile(loss='binary_crossentropy',\n",
    "             optimizer='rmsprop',\n",
    "             metrics=['accuracy'])"
   ]
  },
  {
   "cell_type": "code",
   "execution_count": 19,
   "id": "f732de2e",
   "metadata": {},
   "outputs": [
    {
     "data": {
      "text/plain": [
       "(25000, 1000)"
      ]
     },
     "execution_count": 19,
     "metadata": {},
     "output_type": "execute_result"
    }
   ],
   "source": [
    "X_train.shape"
   ]
  },
  {
   "cell_type": "code",
   "execution_count": 20,
   "id": "431b3c51",
   "metadata": {},
   "outputs": [],
   "source": [
    "## Simple Rnn\n",
    "model = Sequential()\n",
    "model.add(Embedding(max_features,32))\n",
    "model.add(SimpleRNN(32))\n",
    "model.add(Dense(1,activation='sigmoid'))"
   ]
  },
  {
   "cell_type": "code",
   "execution_count": 21,
   "id": "99800da6",
   "metadata": {},
   "outputs": [
    {
     "data": {
      "text/plain": [
       "(1000,)"
      ]
     },
     "execution_count": 21,
     "metadata": {},
     "output_type": "execute_result"
    }
   ],
   "source": [
    "X_train.shape[1:]"
   ]
  },
  {
   "cell_type": "code",
   "execution_count": 22,
   "id": "db485a71",
   "metadata": {},
   "outputs": [],
   "source": [
    "input_a = Input(shape=X_train.shape[1:])\n",
    "embedding_layer = Embedding(max_features,32)(input_a)\n",
    "rnn_layer = SimpleRNN(32)(embedding_layer)\n",
    "fc_layer = Dense(10,activation='relu')(rnn_layer)\n",
    "output_a = Dense(1,activation='sigmoid')(fc_layer)\n",
    "model = Model(inputs=[input_a],outputs=[output_a])"
   ]
  },
  {
   "cell_type": "code",
   "execution_count": 23,
   "id": "462bbdda",
   "metadata": {},
   "outputs": [],
   "source": [
    "input_a = Input(shape=X_train.shape[1:])\n",
    "embedding_layer = Embedding(max_features,32)(input_a)\n",
    "rnn_layer = GRU(32)(embedding_layer)\n",
    "fc_layer = Dense(10,activation='relu')(rnn_layer)\n",
    "output_a = Dense(1,activation='sigmoid')(fc_layer)\n",
    "model = Model(inputs=[input_a],outputs=[output_a])"
   ]
  },
  {
   "cell_type": "code",
   "execution_count": 24,
   "id": "d0fe7209-ae72-4a55-813c-7d4f4980ad7a",
   "metadata": {},
   "outputs": [],
   "source": [
    "model = Sequential()\n",
    "model.add(Dense(10,input_dim=1000))\n",
    "model.add(Dense(1,activation='sigmoid'))"
   ]
  },
  {
   "cell_type": "code",
   "execution_count": 25,
   "id": "b6d5e0af",
   "metadata": {},
   "outputs": [],
   "source": [
    "model.compile(loss='binary_crossentropy',\n",
    "             optimizer='rmsprop',\n",
    "             metrics=['accuracy'])"
   ]
  },
  {
   "cell_type": "code",
   "execution_count": 26,
   "id": "1bd8c076",
   "metadata": {},
   "outputs": [
    {
     "name": "stdout",
     "output_type": "stream",
     "text": [
      "Epoch 1/10\n",
      "157/157 [==============================] - 1s 4ms/step - loss: 54.8306 - accuracy: 0.5039 - val_loss: 33.3754 - val_accuracy: 0.5050\n",
      "Epoch 2/10\n",
      "157/157 [==============================] - 0s 2ms/step - loss: 21.3387 - accuracy: 0.5076 - val_loss: 19.0694 - val_accuracy: 0.4912\n",
      "Epoch 3/10\n",
      "157/157 [==============================] - 0s 3ms/step - loss: 16.7372 - accuracy: 0.5191 - val_loss: 9.9672 - val_accuracy: 0.5234\n",
      "Epoch 4/10\n",
      "157/157 [==============================] - 0s 3ms/step - loss: 13.6592 - accuracy: 0.5172 - val_loss: 11.4359 - val_accuracy: 0.4900\n",
      "Epoch 5/10\n",
      "157/157 [==============================] - 0s 2ms/step - loss: 10.9717 - accuracy: 0.5174 - val_loss: 15.5619 - val_accuracy: 0.5094\n",
      "Epoch 6/10\n",
      "157/157 [==============================] - 0s 3ms/step - loss: 8.5867 - accuracy: 0.5195 - val_loss: 10.3415 - val_accuracy: 0.4954\n",
      "Epoch 7/10\n",
      "157/157 [==============================] - 0s 3ms/step - loss: 6.0874 - accuracy: 0.5168 - val_loss: 3.8553 - val_accuracy: 0.5036\n",
      "Epoch 8/10\n",
      "157/157 [==============================] - 0s 3ms/step - loss: 4.0264 - accuracy: 0.5235 - val_loss: 5.2339 - val_accuracy: 0.4908\n",
      "Epoch 9/10\n",
      "157/157 [==============================] - 0s 3ms/step - loss: 2.5648 - accuracy: 0.5216 - val_loss: 1.9223 - val_accuracy: 0.4906\n",
      "Epoch 10/10\n",
      "157/157 [==============================] - 0s 3ms/step - loss: 1.2670 - accuracy: 0.5162 - val_loss: 0.9873 - val_accuracy: 0.4978\n"
     ]
    },
    {
     "data": {
      "text/plain": [
       "<tensorflow.python.keras.callbacks.History at 0x7f7d586e6430>"
      ]
     },
     "execution_count": 26,
     "metadata": {},
     "output_type": "execute_result"
    }
   ],
   "source": [
    "model.fit(X_train,y_train, epochs=10, batch_size=128,\n",
    "         validation_split=0.2)"
   ]
  },
  {
   "cell_type": "raw",
   "id": "1180477f-afe3-46e0-bbe6-e77b3604cdce",
   "metadata": {},
   "source": []
  },
  {
   "cell_type": "code",
   "execution_count": null,
   "id": "0f6b7c2b-6ab9-4872-9fc1-a32d0fb2d3e0",
   "metadata": {},
   "outputs": [],
   "source": []
  }
 ],
 "metadata": {
  "kernelspec": {
   "display_name": "keras",
   "language": "python",
   "name": "keras"
  },
  "language_info": {
   "codemirror_mode": {
    "name": "ipython",
    "version": 3
   },
   "file_extension": ".py",
   "mimetype": "text/x-python",
   "name": "python",
   "nbconvert_exporter": "python",
   "pygments_lexer": "ipython3",
   "version": "3.8.11"
  }
 },
 "nbformat": 4,
 "nbformat_minor": 5
}
